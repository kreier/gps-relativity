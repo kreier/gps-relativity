{
  "nbformat": 4,
  "nbformat_minor": 0,
  "metadata": {
    "colab": {
      "provenance": []
    },
    "kernelspec": {
      "name": "python3",
      "display_name": "Python 3"
    },
    "language_info": {
      "name": "python"
    }
  },
  "cells": [
    {
      "cell_type": "markdown",
      "source": [
        "# Relative time for GPS satellites\n",
        "\n",
        "GPS satellites experience both gravitational time dilation (due to being farther from Earth's gravitational field compared to ground stations) and special relativistic time dilation (due to their high orbital velocity). Let's break it down:\n",
        "\n",
        "1. **Gravitational Time Dilation:** The satellite's clock runs *faster* because it's farther from Earth’s gravitational field. This causes its clock to gain about **+45.7 microseconds** per day relative to a clock on the ground.\n",
        "\n",
        "2. **Special Relativistic Time Dilation:** Due to the satellite's orbital speed (around 14,000 km/h), its clock runs *slower*. This effect leads to a loss of about **−7 microseconds** per day.\n",
        "\n",
        "When we combine these effects, the net result is that the satellite clock runs about **+38 microseconds faster per day** compared to a clock on Earth.\n",
        "\n",
        "Although this seems tiny, it’s a critical adjustment—GPS systems have to account for this difference to maintain precise timing, as even a small error can lead to significant inaccuracies in positioning."
      ],
      "metadata": {
        "id": "WmDBnoZQn_86"
      }
    },
    {
      "cell_type": "markdown",
      "source": [
        "## Parameters for the Calculation\n",
        "\n",
        "- $G=6.674×10^{−11} m^3/kg/s^2$ (gravitational constant)\n",
        "- $M=5.972×10^{24} kg$ (Earth’s mass)\n",
        "- $c = 3.0×10^8 m/s$ (speed of light)\n",
        "- $r_e = 6,378 km = 6.378 × 10^6 m$ (Earth's radius)\n",
        "- $r_s = 26,600 km = 2.66 × 10^7 m$ (GPS satellite orbital radius)\n"
      ],
      "metadata": {
        "id": "KOFbV1_rrBKu"
      }
    },
    {
      "cell_type": "markdown",
      "source": [
        "## 1. Gravitational Time Dilation (General Relativity)\n",
        "\n",
        "According to general relativity, clocks in a stronger gravitational field tick slower. Since GPS satellites orbit at an altitude of **20,200 km** (or a radius of **26,600 km** from Earth's center), they experience **less gravitational time dilation** than clocks on Earth.\n",
        "\n",
        "The time dilation factor due to gravity is given by:\n",
        "\n",
        "$$\n",
        "\\frac{\\Delta t_s}{\\Delta t_e} \\approx 1 + \\frac{GM}{c^2}\\left(\\frac{1}{r_e} - \\frac{1}{r_s} \\right)\n",
        "$$\n",
        "\n",
        "where:\n",
        "\n",
        "- $𝐺=6.674×10^{−11} m^3/kg/s^2$ (gravitational constant)\n",
        "- $𝑀=5.972×10^{24} kg$ (Earth’s mass)\n",
        "- $𝑐=3.0×10^8 m/s$ (speed of light)\n",
        "- $𝑟_e = 6,378 km = 6.378 × 10^6 m$ (Earth's radius)\n",
        "- $r_s = 26,600 km = 2.66 × 10^7 m$ (GPS satellite orbital radius)\n",
        "\n",
        "Calculating the gravitational time dilation factor:\n",
        "\n",
        "$$\n",
        "\\frac{𝐺𝑀}{𝑐^2} = \\frac{(6.674×10^{−11})(5.972×10^{24})}{(3.0×10^8)^2} = 4.44 × 10^{−3} m\n",
        "$$\n",
        "\n",
        "$$\n",
        "\\frac{1}{r_e} - \\frac{1}{r_s} = \\frac{1}{6.378 \\times 10^6} - \\frac{1}{2.66 \\times 10^7} = (1.567 \\times 10^{-7}) − (3.759×10^{−8}) = 1.191×10^{−7} m^{−1}\n",
        "$$\n",
        "\n",
        "$$\n",
        "\\frac{\\Delta t_s}{\\Delta t_e} \\approx 1 + (4.44 \\times 10^{-3} \\times 1.191 \\times 10^{-7}) = 1 + 5.29 \\times 10^{-10}\n",
        "$$\n",
        "\n",
        "So, the GPS satellite clock ticks faster due to the weaker gravity, gaining about **45.6 microseconds per day**."
      ],
      "metadata": {
        "id": "lQZQQHPv7sVr"
      }
    },
    {
      "cell_type": "code",
      "source": [
        "import math\n",
        "\n",
        "G = 6.674 * 10**-11  # Gravitational constant\n",
        "M = 5.972 * 10**24   # Earth's mass\n",
        "c = 3.0 * 10**8      # Speed of light\n",
        "r_e = 6.378 * 10**6  # Earth's radius\n",
        "r_s = 2.66 * 10**7   # GPS satellite orbital radius\n",
        "day = 24 * 60 * 60   # Number of seconds in a day\n",
        "\n",
        "# Calculate the gravitational time dilation factor\n",
        "delta_t_factor = (G * M) / (c**2) * (1 / r_e - 1 / r_s)\n",
        "print(f\"Gravitational Time Dilation Factor: {delta_t_factor}\")\n",
        "print(f\"Time Dilation per day: {day*delta_t_factor*10**6:.1f} microseconds.\")"
      ],
      "metadata": {
        "colab": {
          "base_uri": "https://localhost:8080/"
        },
        "id": "0BD6x9nQ7z1M",
        "outputId": "c4b7ca06-bc39-406c-8377-f7b04040589e"
      },
      "execution_count": 13,
      "outputs": [
        {
          "output_type": "stream",
          "name": "stdout",
          "text": [
            "Gravitational Time Dilation Factor: 5.278632732243486e-10\n",
            "Time Dilation per day: 45.6 microseconds.\n"
          ]
        }
      ]
    },
    {
      "cell_type": "markdown",
      "source": [
        "## 2. Special Relativity Time Dilation\n",
        "\n",
        "According to special relativity, moving clocks run slower. Since GPS satellites orbit at **3.87 km/s**, their velocity causes time dilation.\n",
        "\n",
        "The relativistic time dilation factor is:\n",
        "\n",
        "$$\n",
        "\\frac{\\Delta t_s}{\\Delta t_e} = \\sqrt{1 - \\frac{v^2}{c^2}}\n",
        "$$\n",
        "\n",
        "where $𝑣 = 3.87×10^3$ m/s."
      ],
      "metadata": {
        "id": "ZeOqkY2W-Q1O"
      }
    },
    {
      "cell_type": "markdown",
      "source": [
        "\n",
        "\n",
        "# The text below is work in progres.\n",
        "\n"
      ],
      "metadata": {
        "id": "rL38jyTt7f3Y"
      }
    },
    {
      "cell_type": "markdown",
      "source": [
        "## Gravitational Time Dilation (General Relativity):\n",
        "\n",
        "According to general relativity, clocks in a stronger gravitational field tick slower. Since GPS satellites orbit at an altitude of **20,200 km** (or a radius of **26,600 km** from Earth's center), they experience **less gravitational time dilation** than clocks on Earth.\n",
        "\n",
        "The time dilation factor due to gravity is given by:\n",
        "\n",
        "$$\n",
        "\\frac{\\Delta t_s}{\\Delta t_e} \\approx 1 + \\frac{GM}{c^2}\\left(\\frac{1}{r_e} - \\frac{1}{r_s} \\right)\n",
        "$$\n",
        "\n",
        "Calculating the gravitational time dilation factor:\n",
        "\n",
        "\\subsection*{Given Parameters}\n",
        "\\begin{align*}\n",
        "    h &= 20,200 \\text{ km} = 20.2 \\times 10^6 \\text{ m} \\\\\n",
        "    R_E &= 6,371 \\text{ km} = 6.371 \\times 10^6 \\text{ m} \\\\\n",
        "    G &= 6.674 \\times 10^{-11} \\text{ m}^3/\\text{kg/s}^2 \\\\\n",
        "    M_E &= 5.972 \\times 10^{24} \\text{ kg} \\\\\n",
        "    c &= 3.0 \\times 10^8 \\text{ m/s} \\\\\n",
        "    t &= 86400 \\text{ s} \\quad (\\text{one day})\n",
        "\\end{align*}\n",
        "\n",
        "For weak gravitational fields the rate of a clock (in proper time) is approximately given by:\n",
        "\n",
        "$$\n",
        "\\frac{d\\tau}{dt} \\approx 1 + \\frac{\\phi}{c^2} \\quad \\text{with} \\quad \\phi = -\\frac{GM}{r}\n",
        "$$\n",
        "\n",
        "- **For the ground station** (at (r = R_E)):\n",
        "- $ \\phi_{\\text{ground}} = -\\frac{GM}{R_E} $\n",
        "\n",
        "\n",
        "\n",
        "The fractional difference is approximately:\n",
        "\n",
        "[ \\Delta_{\\text{grav}} \\approx \\frac{\\phi_{\\text{sat}} - \\phi_{\\text{ground}}}{c2} \\left(\\frac{1}{R_E} - \\frac{1}{r}\\right) ]\n",
        "Now, compute step by step:\n",
        "\n",
        "\n",
        "Δt\n",
        "e\n",
        "​\n",
        "\n",
        "Δt\n",
        "s\n",
        "​\n",
        "\n",
        "​\n",
        " ≈1+\n",
        "c\n",
        "2\n",
        "\n",
        "GM\n",
        "​\n",
        " (\n",
        "r\n",
        "e\n",
        "​\n",
        "\n",
        "1\n",
        "​\n",
        " −\n",
        "r\n",
        "s\n",
        "​\n",
        "\n",
        "1\n",
        "​\n",
        " )"
      ],
      "metadata": {
        "id": "kHArF3mCp6rK"
      }
    },
    {
      "cell_type": "code",
      "execution_count": 2,
      "metadata": {
        "colab": {
          "base_uri": "https://localhost:8080/"
        },
        "id": "sOkvQm9Wn4r7",
        "outputId": "006bf5ad-bc06-4a88-d6d0-818503c29cfd"
      },
      "outputs": [
        {
          "output_type": "stream",
          "name": "stdout",
          "text": [
            "Special relativistic time dilation: 0.000007 seconds per day\n",
            "General relativistic time dilation: 0.000014 seconds per day\n",
            "Total time dilation: 0.000022 seconds per day\n",
            "Total time dilation in microseconds: 21.65 microseconds per day\n"
          ]
        }
      ],
      "source": [
        "# prompt: a calculation of the time dilation for a gps satellite in microseconds every day\n",
        "\n",
        "import math\n",
        "\n",
        "# Constants\n",
        "c = 299792458  # Speed of light (m/s)\n",
        "GM = 3.986 * 10**14  # Earth's gravitational constant (m^3/s^2)\n",
        "R_earth = 6371000  # Earth's radius (m)\n",
        "h = 20183000  # GPS satellite altitude (m)\n",
        "\n",
        "# Calculate the special relativistic effect\n",
        "v = math.sqrt(GM / (R_earth + h))  # Satellite velocity (m/s)\n",
        "gamma = 1 / math.sqrt(1 - (v**2 / c**2))\n",
        "delta_t_sr = (gamma - 1) * 24 * 60 * 60  # Time dilation in seconds per day\n",
        "\n",
        "# Calculate the general relativistic effect\n",
        "delta_t_gr = (GM / (c**2 * (R_earth + h))) * 24 * 60 * 60  # Time dilation in seconds per day\n",
        "\n",
        "# Calculate the total time dilation\n",
        "delta_t_total = delta_t_sr + delta_t_gr\n",
        "\n",
        "# Convert to microseconds\n",
        "delta_t_microseconds = delta_t_total * 10**6\n",
        "\n",
        "# Print the results\n",
        "print(f\"Special relativistic time dilation: {delta_t_sr:.6f} seconds per day\")\n",
        "print(f\"General relativistic time dilation: {delta_t_gr:.6f} seconds per day\")\n",
        "print(f\"Total time dilation: {delta_t_total:.6f} seconds per day\")\n",
        "print(f\"Total time dilation in microseconds: {delta_t_microseconds:.2f} microseconds per day\")\n",
        "\n"
      ]
    },
    {
      "cell_type": "markdown",
      "source": [
        "Answer from Copilot"
      ],
      "metadata": {
        "id": "7Mwbij26or7V"
      }
    },
    {
      "cell_type": "markdown",
      "source": [
        "- **Gravitational Constant × Earth Mass:** $\\displaystyle GM \\approx 3.986 \\times 10^{14}~\\text{m}^3/\\text{s}^2$\n",
        "- **Speed of Light:** $\\displaystyle c = 3.00 \\times 10^8~\\text{m/s}$\n",
        "- **Earth’s Radius:** $\\displaystyle R_E \\approx 6.371 \\times 10^6 ~\\text{m}$\n",
        "- **GPS Satellite Altitude:** $\\displaystyle h \\approx 2.02 \\times 10^7 ~\\text{m})$\n",
        "- **Satellite Speed:** $\\displaystyle v \\approx 3,870 ~\\text{m/s}$"
      ],
      "metadata": {
        "id": "ks0ZstqeuuhS"
      }
    }
  ]
}